{
 "cells": [
  {
   "cell_type": "code",
   "execution_count": 2,
   "metadata": {},
   "outputs": [
    {
     "name": "stdout",
     "output_type": "stream",
     "text": [
      "Initial route [2, 3, 1, 0]\n"
     ]
    },
    {
     "ename": "NameError",
     "evalue": "name 'A' is not defined",
     "output_type": "error",
     "traceback": [
      "\u001b[1;31m---------------------------------------------------------------------------\u001b[0m",
      "\u001b[1;31mNameError\u001b[0m                                 Traceback (most recent call last)",
      "Cell \u001b[1;32mIn[2], line 62\u001b[0m\n\u001b[0;32m     53\u001b[0m     \u001b[38;5;28;01mreturn\u001b[39;00m best_tour, best_tour_length,g\n\u001b[0;32m     55\u001b[0m adjacency_matrix \u001b[38;5;241m=\u001b[39m [\n\u001b[0;32m     56\u001b[0m     [\u001b[38;5;241m0\u001b[39m, \u001b[38;5;241m400\u001b[39m, \u001b[38;5;241m500\u001b[39m, \u001b[38;5;241m300\u001b[39m],\n\u001b[0;32m     57\u001b[0m     [\u001b[38;5;241m400\u001b[39m, \u001b[38;5;241m0\u001b[39m, \u001b[38;5;241m300\u001b[39m, \u001b[38;5;241m500\u001b[39m],\n\u001b[0;32m     58\u001b[0m     [\u001b[38;5;241m500\u001b[39m, \u001b[38;5;241m300\u001b[39m, \u001b[38;5;241m0\u001b[39m, \u001b[38;5;241m400\u001b[39m],\n\u001b[0;32m     59\u001b[0m     [\u001b[38;5;241m300\u001b[39m, \u001b[38;5;241m500\u001b[39m, \u001b[38;5;241m400\u001b[39m, \u001b[38;5;241m0\u001b[39m]\n\u001b[0;32m     60\u001b[0m ]\n\u001b[1;32m---> 62\u001b[0m best_tour, best_tour_length ,total_steps\u001b[38;5;241m=\u001b[39m \u001b[43mlocal_search_tsp\u001b[49m\u001b[43m(\u001b[49m\u001b[43madjacency_matrix\u001b[49m\u001b[43m)\u001b[49m\n\u001b[0;32m     63\u001b[0m \u001b[38;5;28mprint\u001b[39m(\u001b[38;5;124m\"\u001b[39m\u001b[38;5;124mBest Tour:\u001b[39m\u001b[38;5;124m\"\u001b[39m, best_tour)\n\u001b[0;32m     64\u001b[0m \u001b[38;5;28mprint\u001b[39m(\u001b[38;5;124m\"\u001b[39m\u001b[38;5;124mTour Length:\u001b[39m\u001b[38;5;124m\"\u001b[39m, best_tour_length)\n",
      "Cell \u001b[1;32mIn[2], line 45\u001b[0m, in \u001b[0;36mlocal_search_tsp\u001b[1;34m(adj_matrix)\u001b[0m\n\u001b[0;32m     43\u001b[0m current_tour \u001b[38;5;241m=\u001b[39m neighbor_tour\u001b[38;5;241m.\u001b[39mcopy()\n\u001b[0;32m     44\u001b[0m best_tour \u001b[38;5;241m=\u001b[39m current_tour\u001b[38;5;241m.\u001b[39mcopy()\n\u001b[1;32m---> 45\u001b[0m best_tour_length \u001b[38;5;241m=\u001b[39m \u001b[43mA\u001b[49m\n\u001b[0;32m     46\u001b[0m \u001b[38;5;28mprint\u001b[39m(\u001b[38;5;124m\"\u001b[39m\u001b[38;5;124mSelected improved neighbour\u001b[39m\u001b[38;5;124m\"\u001b[39m,current_tour)\n\u001b[0;32m     47\u001b[0m improvement \u001b[38;5;241m=\u001b[39m \u001b[38;5;28;01mTrue\u001b[39;00m\n",
      "\u001b[1;31mNameError\u001b[0m: name 'A' is not defined"
     ]
    }
   ],
   "source": [
    "import random\n",
    "\n",
    "def compute_tour_length(tour:list[int], adj_matrix:list[list[int]]):\n",
    "    total_distance = 0\n",
    "    num_cities = len(tour)\n",
    "    for i in range(num_cities):\n",
    "        j = (i + 1) % num_cities  # Next city in the tour\n",
    "        total_distance += adj_matrix[tour[i]][tour[j]]\n",
    "    return total_distance\n",
    "\n",
    "\n",
    "def generate_random_route(num_cities:int):\n",
    "    start = int(input(\"Start City? num/-1:\"))\n",
    "    random_ro = list(range(num_cities))\n",
    "    random.shuffle(random_ro)\n",
    "    if start!=-1:\n",
    "        random_ro.remove(start)\n",
    "        random_ro.insert(0,start)\n",
    "    print(\"Initial route\",random_ro)\n",
    "    return random_ro    \n",
    "\n",
    "def local_search_tsp(adj_matrix:list[list[int]]):\n",
    "    g = int(0)\n",
    "    num_cities = len(adj_matrix)\n",
    "    current_tour = generate_random_route(num_cities)  # Initial tour, can start with any permutation\n",
    "    \n",
    "    best_tour = current_tour.copy()\n",
    "    best_tour_length = compute_tour_length(best_tour, adj_matrix)\n",
    "\n",
    "    improvement = True\n",
    "    while improvement:\n",
    "        g +=1\n",
    "        improvement = False\n",
    "        for i in range(1, num_cities - 1):\n",
    "            for j in range(i + 1, num_cities):\n",
    "                \n",
    "                neighbor_tour = current_tour.copy()\n",
    "                neighbor_tour[i], neighbor_tour[j] = neighbor_tour[j], neighbor_tour[i]\n",
    "                neighbor_tour_length = compute_tour_length(neighbor_tour, adj_matrix)\n",
    "\n",
    "                \n",
    "                if neighbor_tour_length < best_tour_length:\n",
    "                    current_tour = neighbor_tour.copy()\n",
    "                    best_tour = current_tour.copy()\n",
    "                    best_tour_length = A\n",
    "                    print(\"Selected improved neighbour\",current_tour)\n",
    "                    improvement = True\n",
    "                    break\n",
    "\n",
    "            if improvement:\n",
    "                break\n",
    "    \n",
    "    return best_tour, best_tour_length,g\n",
    "\n",
    "adjacency_matrix = [\n",
    "    [0, 400, 500, 300],\n",
    "    [400, 0, 300, 500],\n",
    "    [500, 300, 0, 400],\n",
    "    [300, 500, 400, 0]\n",
    "]\n",
    "\n",
    "best_tour, best_tour_length ,total_steps= local_search_tsp(adjacency_matrix)\n",
    "print(\"Best Tour:\", best_tour)\n",
    "print(\"Tour Length:\", best_tour_length)\n",
    "print(\"Total Steps:\", total_steps)"
   ]
  }
 ],
 "metadata": {
  "kernelspec": {
   "display_name": "Python 3",
   "language": "python",
   "name": "python3"
  },
  "language_info": {
   "codemirror_mode": {
    "name": "ipython",
    "version": 3
   },
   "file_extension": ".py",
   "mimetype": "text/x-python",
   "name": "python",
   "nbconvert_exporter": "python",
   "pygments_lexer": "ipython3",
   "version": "3.11.9"
  }
 },
 "nbformat": 4,
 "nbformat_minor": 2
}
